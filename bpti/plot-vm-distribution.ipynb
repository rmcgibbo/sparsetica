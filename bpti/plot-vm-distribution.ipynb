{
 "cells": [
  {
   "cell_type": "code",
   "execution_count": 19,
   "metadata": {
    "collapsed": false
   },
   "outputs": [],
   "source": [
    "import numpy as np\n",
    "import scipy.stats\n",
    "%matplotlib inline\n",
    "import matplotlib.pyplot as plt\n",
    "from matplotlib import rc\n",
    "rc('text', usetex=True)"
   ]
  },
  {
   "cell_type": "code",
   "execution_count": 48,
   "metadata": {
    "collapsed": true
   },
   "outputs": [],
   "source": [
    "x = np.linspace(-np.pi, np.pi, 10000)"
   ]
  },
  {
   "cell_type": "code",
   "execution_count": 76,
   "metadata": {
    "collapsed": false
   },
   "outputs": [
    {
     "data": {
      "image/png": "[encoded data removed]",
      "text/plain": [
       "<matplotlib.figure.Figure at 0x10f75f7b8>"
      ]
     },
     "metadata": {},
     "output_type": "display_data"
    }
   ],
   "source": [
    "plt.figure(figsize=(6,3))\n",
    "for loc in [0, 80, 160]:\n",
    "    y1 = scipy.stats.vonmises(loc=np.deg2rad(loc), kappa=20).pdf(x)\n",
    "    plt.plot(np.rad2deg(x), y1, label=r'$\\mu=%d^\\circ$' % loc)\n",
    "\n",
    "plt.legend(loc=2, fontsize=14)\n",
    "plt.xlim(-180, 180)\n",
    "plt.ylabel('$f$', fontsize=16)\n",
    "plt.xlabel('$x \\;\\; \\mathrm{[degrees]}$', fontsize=16)\n",
    "plt.tight_layout()\n",
    "plt.savefig('von-mises.pdf')"
   ]
  },
  {
   "cell_type": "code",
   "execution_count": 77,
   "metadata": {
    "collapsed": false
   },
   "outputs": [
    {
     "name": "stdout",
     "output_type": "stream",
     "text": [
      "PDFCROP 1.38, 2012/11/02 - Copyright (c) 2002-2012 by Heiko Oberdiek.\n",
      "==> 1 page written on `von-mises-crop.pdf'.\n"
     ]
    }
   ],
   "source": [
    "!pdfcrop --margin 20 von-mises.pdf"
   ]
  },
  {
   "cell_type": "code",
   "execution_count": 49,
   "metadata": {
    "collapsed": false
   },
   "outputs": [
    {
     "data": {
      "text/plain": [
       "array([5420, 4579, 4580, ...,  474,  472, 9999])"
      ]
     },
     "execution_count": 49,
     "metadata": {},
     "output_type": "execute_result"
    }
   ],
   "source": [
    "y0 = scipy.stats.vonmises(loc=0, kappa=20).pdf(x)\n",
    "np.argsort((y0 - np.max(y0) / 2)**2)"
   ]
  },
  {
   "cell_type": "code",
   "execution_count": 58,
   "metadata": {
    "collapsed": false
   },
   "outputs": [
    {
     "name": "stdout",
     "output_type": "stream",
     "text": [
      "0.885473631882\n",
      "-0.264234365603\n"
     ]
    }
   ],
   "source": [
    "print(y0[4579])\n",
    "print(x[4579])"
   ]
  },
  {
   "cell_type": "code",
   "execution_count": 66,
   "metadata": {
    "collapsed": false
   },
   "outputs": [
    {
     "data": {
      "text/plain": [
       "      fun: 3.3184502633000475e-10\n",
       " hess_inv: array([[ 75.53109827]])\n",
       "      jac: array([  2.94200146e-06])\n",
       "  message: 'Optimization terminated successfully.'\n",
       "     nfev: 63\n",
       "      nit: 5\n",
       "     njev: 21\n",
       "   status: 0\n",
       "  success: True\n",
       "        x: array([ 15.1287894])"
      ]
     },
     "execution_count": 66,
     "metadata": {},
     "output_type": "execute_result"
    }
   ],
   "source": [
    "import scipy.optimize\n",
    "pdf = scipy.stats.vonmises(loc=0, kappa=20).pdf\n",
    "scipy.optimize.minimize(lambda a: (pdf(np.deg2rad(a)) - pdf(0)/2.0)**2, x0=1)"
   ]
  },
  {
   "cell_type": "code",
   "execution_count": 65,
   "metadata": {
    "collapsed": false
   },
   "outputs": [
    {
     "data": {
      "text/plain": [
       "0.88655781055575833"
      ]
     },
     "execution_count": 65,
     "metadata": {},
     "output_type": "execute_result"
    }
   ],
   "source": []
  },
  {
   "cell_type": "code",
   "execution_count": null,
   "metadata": {
    "collapsed": true
   },
   "outputs": [],
   "source": []
  }
 ],
 "metadata": {
  "kernelspec": {
   "display_name": "Python 3",
   "language": "python",
   "name": "python3"
  },
  "language_info": {
   "codemirror_mode": {
    "name": "ipython",
    "version": 3
   },
   "file_extension": ".py",
   "mimetype": "text/x-python",
   "name": "python",
   "nbconvert_exporter": "python",
   "pygments_lexer": "ipython3",
   "version": "3.5.1"
  }
 },
 "nbformat": 4,
 "nbformat_minor": 0
}
