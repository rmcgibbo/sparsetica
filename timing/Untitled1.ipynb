{
 "cells": [
  {
   "cell_type": "code",
   "execution_count": 103,
   "metadata": {
    "collapsed": false
   },
   "outputs": [],
   "source": [
    "import json \n",
    "for line in requests.get('http://www.nytimes.com/elections/2016/primaries/results/nevada').content.decode('utf-8').splitlines():\n",
    "    if 'var eln_races =' in line:\n",
    "        data = json.loads(line.split('var eln_races = ')[1].strip()[:-1])\n",
    "        break"
   ]
  },
  {
   "cell_type": "code",
   "execution_count": null,
   "metadata": {
    "collapsed": false
   },
   "outputs": [],
   "source": []
  },
  {
   "cell_type": "code",
   "execution_count": 104,
   "metadata": {
    "collapsed": false
   },
   "outputs": [
    {
     "name": "stdout",
     "output_type": "stream",
     "text": [
      "{'kasich-36679': 2528.9536823118074, 'other-999999': 355.49038188310004, 'carson-64509': 3715.4605329808132, 'rubio-53044': 17403.69807637662, 'trump-8639': 34050.51972424358, 'cruz-61815': 16409.527198823835}\n",
      "\n",
      "{'kasich-36679': 0.03396225804149423, 'other-999999': 0.004774012337682108, 'carson-64509': 0.04989629910846426, 'rubio-53044': 0.2337207237444705, 'trump-8639': 0.45727707288992847, 'cruz-61815': 0.22036963387796046}\n"
     ]
    }
   ],
   "source": [
    "candidates = {'kasich-36679', 'other-999999',  'carson-64509', 'rubio-53044', 'trump-8639', 'cruz-61815'}\n",
    "projection = {c:0. for c in candidates}\n",
    "\n",
    "for county in data[0]['counties']:\n",
    "    votes_cast = sum(county['results'].values())\n",
    "    if county['precincts_reporting'] == 0:\n",
    "        print(county)\n",
    "    total_votes = votes_cast * county['precincts_total'] / county['precincts_reporting']\n",
    "    for c in candidates:\n",
    "        projection[c] += county['results'][c]/votes_cast * total_votes\n",
    "\n",
    "percents = {k: v/sum(projection.values()) for k, v in projection.items()}\n",
    "print(projection)\n",
    "print()\n",
    "print(percents)"
   ]
  },
  {
   "cell_type": "code",
   "execution_count": 105,
   "metadata": {
    "collapsed": false
   },
   "outputs": [
    {
     "name": "stdout",
     "output_type": "stream",
     "text": [
      "1.335108986651004\n"
     ]
    }
   ],
   "source": [
    "sum([sum(c['results'].values()) for c in data[0]['counties']])\n",
    "print(100*(percents['rubio-53044'] - percents['cruz-61815']))"
   ]
  },
  {
   "cell_type": "code",
   "execution_count": 106,
   "metadata": {
    "collapsed": false
   },
   "outputs": [
    {
     "name": "stdout",
     "output_type": "stream",
     "text": [
      "0.8503363228699552\n"
     ]
    }
   ],
   "source": [
    "print(sum(c['precincts_reporting'] for c in data[0]['counties']) / sum(c['precincts_total'] for c in data[0]['counties']))"
   ]
  },
  {
   "cell_type": "code",
   "execution_count": null,
   "metadata": {
    "collapsed": true
   },
   "outputs": [],
   "source": []
  },
  {
   "cell_type": "code",
   "execution_count": 62,
   "metadata": {
    "collapsed": false
   },
   "outputs": [],
   "source": []
  },
  {
   "cell_type": "code",
   "execution_count": null,
   "metadata": {
    "collapsed": true
   },
   "outputs": [],
   "source": []
  }
 ],
 "metadata": {
  "kernelspec": {
   "display_name": "Python 3",
   "language": "python",
   "name": "python3"
  },
  "language_info": {
   "codemirror_mode": {
    "name": "ipython",
    "version": 3
   },
   "file_extension": ".py",
   "mimetype": "text/x-python",
   "name": "python",
   "nbconvert_exporter": "python",
   "pygments_lexer": "ipython3",
   "version": "3.5.1"
  }
 },
 "nbformat": 4,
 "nbformat_minor": 0
}
