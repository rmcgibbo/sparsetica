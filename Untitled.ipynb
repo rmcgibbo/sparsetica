{
 "cells": [
  {
   "cell_type": "code",
   "execution_count": 1,
   "metadata": {
    "collapsed": true
   },
   "outputs": [],
   "source": [
    "url = 'http://www.nytimes.com/elections/results/alaska'\n",
    "import requests\n",
    "import json"
   ]
  },
  {
   "cell_type": "code",
   "execution_count": 2,
   "metadata": {
    "collapsed": true
   },
   "outputs": [],
   "source": [
    "data = requests.get(url).content.decode('utf-8').splitlines()\n",
    "data = [l for l in data if 'var eln_races' in l][0].split(' = ')[1][:-1]\n",
    "data = json.loads(data)[0]"
   ]
  },
  {
   "cell_type": "code",
   "execution_count": 3,
   "metadata": {
    "collapsed": false
   },
   "outputs": [
    {
     "name": "stdout",
     "output_type": "stream",
     "text": [
      "State House District 11  -- Outstanding Precints 1\n",
      "State House District 11\n",
      "  outstanding cruz:  455.0\n",
      "  outstanting trump:  323.0\n",
      "  trump could make up:  -132.0\n",
      "State House District 12  -- Outstanding Precints 2\n",
      "State House District 12\n",
      "  outstanding cruz:  820.0\n",
      "  outstanting trump:  629.9999999999999\n",
      "  trump could make up:  -190.0000000000001\n",
      "State House District 25  -- Outstanding Precints 1\n"
     ]
    }
   ],
   "source": [
    "cruz_proj = 0\n",
    "cruz_votes = 0\n",
    "trump_votes = 0\n",
    "trump_proj = 0\n",
    "all_votes = 0\n",
    "proj_votes = 0\n",
    "\n",
    "for d in data['state_house_districts']:\n",
    "    if d['precincts_total'] - d['precincts_reporting'] > 0:\n",
    "        print(d['name'], ' -- Outstanding Precints', d['precincts_total'] - d['precincts_reporting'])\n",
    "\n",
    "    if d['precincts_reporting'] > 0:\n",
    "        cruz_votes += d['results']['cruz-61815']\n",
    "        trump_votes += d['results']['trump-8639']\n",
    "        total_votes = sum(d['results'].values())\n",
    "        all_votes += total_votes\n",
    "        if total_votes == 0:\n",
    "            continue\n",
    "\n",
    "        cruz_frac = (d['results']['cruz-61815'] / total_votes)\n",
    "        trump_frac = (d['results']['trump-8639'] / total_votes)\n",
    "        votes_per_precinct = total_votes / d['precincts_reporting']\n",
    "        \n",
    "        cruz_increment =  d['precincts_total'] * votes_per_precinct * cruz_frac\n",
    "        trump_increment = d['precincts_total'] * votes_per_precinct * trump_frac\n",
    "\n",
    "        if cruz_increment - d['results']['cruz-61815'] > 1:\n",
    "            print(d['name'])\n",
    "            print('  outstanding cruz: ', cruz_increment - d['results']['cruz-61815'])\n",
    "            print('  outstanting trump: ', trump_increment - d['results']['trump-8639'])\n",
    "            print('  trump could make up: ', (trump_increment - d['results']['trump-8639']) - (cruz_increment - d['results']['cruz-61815']))\n",
    "\n",
    "        cruz_proj += cruz_increment\n",
    "        trump_proj += trump_increment\n",
    "        proj_votes += d['precincts_total'] * votes_per_precinct\n"
   ]
  },
  {
   "cell_type": "code",
   "execution_count": 4,
   "metadata": {
    "collapsed": false
   },
   "outputs": [
    {
     "name": "stdout",
     "output_type": "stream",
     "text": [
      "Projection\n",
      "cruz 36.856\n",
      "trump 33.027\n"
     ]
    }
   ],
   "source": [
    "print('Projection')\n",
    "print('cruz %2.3f' % (100*cruz_proj / proj_votes))\n",
    "print('trump %2.3f' % (100*trump_proj / proj_votes))"
   ]
  },
  {
   "cell_type": "code",
   "execution_count": 5,
   "metadata": {
    "collapsed": false
   },
   "outputs": [
    {
     "name": "stdout",
     "output_type": "stream",
     "text": [
      "Current\n",
      "cruz 36.366\n",
      "trump 33.472\n",
      "Votes:  21454\n"
     ]
    }
   ],
   "source": [
    "print('Current')\n",
    "print('cruz %2.3f' % (100*cruz_votes / all_votes))\n",
    "print('trump %2.3f' % (100*trump_votes / all_votes))\n",
    "print('Votes: ', all_votes)"
   ]
  },
  {
   "cell_type": "code",
   "execution_count": 6,
   "metadata": {
    "collapsed": false
   },
   "outputs": [
    {
     "name": "stdout",
     "output_type": "stream",
     "text": [
      "Current Cruz Lead 621\n"
     ]
    }
   ],
   "source": [
    "print('Current Cruz Lead', cruz_votes - trump_votes)"
   ]
  },
  {
   "cell_type": "code",
   "execution_count": 7,
   "metadata": {
    "collapsed": false
   },
   "outputs": [
    {
     "name": "stdout",
     "output_type": "stream",
     "text": [
      "72\n",
      "68\n"
     ]
    }
   ],
   "source": [
    "print(sum(e['precincts_total'] for e in data['state_house_districts']))\n",
    "print(sum(e['precincts_reporting'] for e in data['state_house_districts']))"
   ]
  },
  {
   "cell_type": "code",
   "execution_count": 8,
   "metadata": {
    "collapsed": false
   },
   "outputs": [
    {
     "name": "stdout",
     "output_type": "stream",
     "text": [
      "8134.0\n"
     ]
    }
   ],
   "source": [
    "print(trump_proj)"
   ]
  },
  {
   "cell_type": "code",
   "execution_count": null,
   "metadata": {
    "collapsed": true
   },
   "outputs": [],
   "source": []
  },
  {
   "cell_type": "code",
   "execution_count": null,
   "metadata": {
    "collapsed": true
   },
   "outputs": [],
   "source": []
  }
 ],
 "metadata": {
  "kernelspec": {
   "display_name": "Python 3",
   "language": "python",
   "name": "python3"
  },
  "language_info": {
   "codemirror_mode": {
    "name": "ipython",
    "version": 3
   },
   "file_extension": ".py",
   "mimetype": "text/x-python",
   "name": "python",
   "nbconvert_exporter": "python",
   "pygments_lexer": "ipython3",
   "version": "3.5.1"
  }
 },
 "nbformat": 4,
 "nbformat_minor": 0
}
